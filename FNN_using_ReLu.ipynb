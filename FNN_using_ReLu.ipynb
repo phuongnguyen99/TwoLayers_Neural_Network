{
  "nbformat": 4,
  "nbformat_minor": 0,
  "metadata": {
    "colab": {
      "name": "FNN_using_ReLu.ipynb",
      "provenance": [],
      "collapsed_sections": [],
      "include_colab_link": true
    },
    "kernelspec": {
      "name": "python3",
      "display_name": "Python 3"
    },
    "language_info": {
      "name": "python"
    },
    "accelerator": "GPU"
  },
  "cells": [
    {
      "cell_type": "markdown",
      "metadata": {
        "id": "view-in-github",
        "colab_type": "text"
      },
      "source": [
        "<a href=\"https://colab.research.google.com/github/phuongnguyen99/TwoLayers_Neural_Network/blob/main/FNN_using_ReLu.ipynb\" target=\"_parent\"><img src=\"https://colab.research.google.com/assets/colab-badge.svg\" alt=\"Open In Colab\"/></a>"
      ]
    },
    {
      "cell_type": "code",
      "source": [
        "%tensorflow_version 2.x\n",
        "import tensorflow as tf\n",
        "device_name = tf.test.gpu_device_name()\n",
        "if device_name != '/device:GPU:0':\n",
        "  raise SystemError('GPU device not found')\n",
        "print('Found GPU at: {}'.format(device_name))"
      ],
      "metadata": {
        "colab": {
          "base_uri": "https://localhost:8080/"
        },
        "id": "fqRu86vkMboe",
        "outputId": "98e25db2-9daf-4732-d27d-158af8e5c297"
      },
      "execution_count": null,
      "outputs": [
        {
          "output_type": "stream",
          "name": "stdout",
          "text": [
            "Found GPU at: /device:GPU:0\n"
          ]
        }
      ]
    },
    {
      "cell_type": "code",
      "source": [
        "import os\n",
        "import tensorflow as tf\n",
        "import numpy as np\n",
        "import math\n",
        "import timeit\n",
        "import matplotlib.pyplot as plt\n",
        "\n",
        "%matplotlib inline\n",
        "\n",
        "USE_GPU = True\n",
        "\n",
        "if USE_GPU:\n",
        "    device = '/device:GPU:0'\n",
        "else:\n",
        "    device = '/cpu:0'\n",
        "\n",
        "# Constant to control how often we print when training models.\n",
        "print_every = 100\n",
        "print('Using device: ', device)"
      ],
      "metadata": {
        "colab": {
          "base_uri": "https://localhost:8080/"
        },
        "id": "0S_9wp9QQdU2",
        "outputId": "05916ab8-d84b-41b0-ad23-a7b9f57e8a9d"
      },
      "execution_count": null,
      "outputs": [
        {
          "output_type": "stream",
          "name": "stdout",
          "text": [
            "Using device:  /device:GPU:0\n"
          ]
        }
      ]
    },
    {
      "cell_type": "markdown",
      "source": [
        "**Compute Forwardpropagation and Backwardproparation for 2 layers Neural Networks**\n",
        "\n",
        "\n"
      ],
      "metadata": {
        "id": "plc5ztiTNX20"
      }
    },
    {
      "cell_type": "code",
      "source": [
        "# Forward steps \n",
        "\n",
        "def affine_forward(x,w,b):\n",
        "    \"\"\" Computes the forward pass for an affine (fully connected) layer.\n",
        "    Inputs:\n",
        "    - x: A numpy array containing input data of shape (N, D) where N represents for a number of minibatch\n",
        "    - w: A numpy array containing weights, of shape (D,M)\n",
        "    - b: A numpy array containing biases, of shape (M,)\n",
        "\n",
        "    Return a tuple of:\n",
        "    - out : output of shape (N,M)\n",
        "    - cache: (x,w,b)\n",
        "    \"\"\"\n",
        "    out = None \n",
        "    out = x.reshape(x.shape[0], -1).dot(w) + b\n",
        "    cache = (x,w,b)\n",
        "\n",
        "    return out, cache\n",
        "\n",
        "def affine_backward(dout, cache):\n",
        "    \"\"\" Computes the backward pass for an affine (fully connected) layer.\n",
        "    Inputs:\n",
        "    - dout: derivative of the output computed in affine_forward, of the shape (N,M)\n",
        "    - cache : a tuple of \n",
        "      - x: input data, of shape (N,D)\n",
        "      - w: weights, of shape (D,M)\n",
        "      - b: biases, of shape (M,)\n",
        "\n",
        "    Ouputs:\n",
        "    - dx: gradient w.r.to x, of shape (N,D)\n",
        "    - dw: gradient w.r.to w, of shape (D,M)\n",
        "    - db: gradient w.r.to b, of shape (M,)\n",
        "\n",
        "    \"\"\"\n",
        "    x, w, b = cache\n",
        "    dx, dw, db = None, None, None\n",
        "    dx = dout.dot(w.T).reshape(x.shape)\n",
        "    dw = x.reshape(x.shape[0],-1).T.dot(dout)\n",
        "    db = np.sum(dout, axis = 0)\n",
        "    return dx, dw, db\n",
        "\n",
        "# Backward steps\n",
        "\n",
        "def relu_forward(x):\n",
        "    \"\"\" Computes the forward pass for a layer of rectified linear units (ReLUs).\n",
        "    Input:\n",
        "    - x: A numpy array of any shape\n",
        "\n",
        "    Output:\n",
        "    - out: output, of the same shape as x\n",
        "    - cache: x\n",
        "    \"\"\"\n",
        "    out = None \n",
        "    out = np.maximum(0,x)\n",
        "    cache = x\n",
        "    return out, cache\n",
        "\n",
        "\n",
        "def relu_backward(dout, cache):\n",
        "    \"\"\" Computes the backward pass for a layer of rectified linear units (ReLUs)\n",
        "    Inputs:\n",
        "    - dout: derivative of output computed in relu_forward, of any shape\n",
        "    - cache: input x, of the same shape as dout\n",
        "\n",
        "    Output:\n",
        "    dx: gradient with respect to x\n",
        "    \"\"\"\n",
        "    dx, x = None, cache\n",
        "    dx = (x>0)*dout\n",
        "    return dx\n"
      ],
      "metadata": {
        "id": "x353OQVq3-_L"
      },
      "execution_count": null,
      "outputs": []
    },
    {
      "cell_type": "markdown",
      "source": [
        "**Layers between affine and relu are utilized simultaneouly**"
      ],
      "metadata": {
        "id": "foMuPx-hmYfO"
      }
    },
    {
      "cell_type": "code",
      "source": [
        "def affine_relu_forward(x, w, b):\n",
        "\n",
        "    \"\"\"Convenience layer that performs an affine forward transform followed by a ReLU\n",
        "    Inputs:\n",
        "    - x: Input to the affine layer\n",
        "    - w, b: Weights for the affine layer\n",
        "\n",
        "    Returns a tuple of:\n",
        "    - out: Output from the ReLU\n",
        "    - cache: Object to give to the backward pass\n",
        "    \"\"\"\n",
        "    a, fc_cache = affine_forward(x, w, b)\n",
        "    out, relu_cache = relu_forward(a)\n",
        "    cache = (fc_cache, relu_cache)\n",
        "    return out, cache\n",
        "\n",
        "\n",
        "def affine_relu_backward(dout, cache):\n",
        "    \"\"\"  Convenience layer that performs an affine backward transform followed by a ReLU\n",
        "    Inputs:\n",
        "    - dout: gradient from the affine layer\n",
        "    - cache: a tuple obtained from the affine layer\n",
        "\n",
        "    Outputs:\n",
        "    dx: gradient with respect to x, of the shape (N,D)\n",
        "    dw: gradient with respect to w, of the shape (D,M)\n",
        "    db: gradient with respect to b, of the shape (M,)\n",
        "    \"\"\"\n",
        "    fc_cache, relu_cache = cache\n",
        "    da = relu_backward(dout, relu_cache)\n",
        "    dx, dw, db = affine_backward(da, fc_cache)\n",
        "    return dx, dw, db\n",
        "\n"
      ],
      "metadata": {
        "id": "5cuaZgPM4DaQ"
      },
      "execution_count": null,
      "outputs": []
    },
    {
      "cell_type": "markdown",
      "source": [
        "**A two-layers neural network**\n"
      ],
      "metadata": {
        "id": "hVAGcQEiOKa_"
      }
    },
    {
      "cell_type": "code",
      "source": [
        "def two_layers_net(x,y, input_dim, H1, num_classes, lr):\n",
        "    \"\"\" A two-layers neural network is built up with the following architectures:\n",
        "        affine-relu-affine-MSE\n",
        "\n",
        "    Inputs:\n",
        "    x: Input data, of the shape (N,D)\n",
        "    y: output data, of the shape (N,D)\n",
        "    input_dim: the size of input data or the number of neruons in input\n",
        "    H1: size of hidden layers or the number of neruons in hidden layer\n",
        "    num_classes: the size of output data or the number of neruons in ouput\n",
        "    lr: learning rate\n",
        "    \"\"\"\n",
        "    scores = None\n",
        "    np.random.seed(21)\n",
        "    N = y.shape[0]\n",
        "    # Initialize the weights and bisases\n",
        "    W1 = np.random.randn(input_dim, H1) * np.sqrt(2/input_dim) # we have to devide with sqrt(2/number of neurons in the previous layer) because we want the weights in every layer will behave differently\n",
        "    b1 = np.zeros(H1) # bias for first layer\n",
        "    # Weights and biases for the seocnd layer \n",
        "    W2 = np.random.randn(H1,num_classes) * np.sqrt(2/H1)\n",
        "    b2 = np.zeros(num_classes) \n",
        "\n",
        "    # iterate M = 100000 times to compute loss and gradients of W1, W2, b1 and b2    \n",
        "    for i in range(100000):\n",
        "\n",
        "         # forward pass\n",
        "        out, cache_1 = affine_relu_forward(x, W1, b1)\n",
        "        scores, cache = affine_forward(out, W2, b2)\n",
        "        loss, grads = 0, {}\n",
        "\n",
        "        # compute loss based on MSE \n",
        "        R = scores.T - y\n",
        "        loss = 0.5*np.sum(R.dot(R.T))/N\n",
        "        \n",
        "        # gradient of scores (dscores) with respect to the loss\n",
        "        dscores = R/N\n",
        "        dscores= dscores.T\n",
        "        \n",
        "        # update the loss after ervery iteration \n",
        "        # loss +=  0.5* (np.sum(W1**2) + np.sum(W2**2))\n",
        "\n",
        "          # backward pass: update the weights and biases based on stochastic gradient\n",
        "        dout, grads_W2, grads_b2 = affine_backward(dscores, cache)\n",
        "        W2  -= grads_W2 *lr\n",
        "        b2 -= grads_b2*lr\n",
        "        dout, grads_W1, grads_b1 = affine_relu_backward(dout, cache_1)\n",
        "        W1 -= grads_W1 * lr\n",
        "        b1 -= grads_b1*lr\n",
        "        grads = {'W1': W1, 'b1': b1, 'W2': W2, 'b2':b2}\n",
        "\n",
        "        \n",
        "    return loss, scores\n",
        "\n",
        "    "
      ],
      "metadata": {
        "id": "lRN_RWMG4HSK"
      },
      "execution_count": null,
      "outputs": []
    },
    {
      "cell_type": "markdown",
      "source": [
        "**Plots**"
      ],
      "metadata": {
        "id": "nJfPAQWHnOHb"
      }
    },
    {
      "cell_type": "code",
      "source": [
        "x = np.linspace(0, 1,1001)\n",
        "y = x+(x)**3+0.05*np.random.randn(x.shape[0])\n",
        "# y = (x-0.2)**2 + np.random.randn(x.shape[0])*0\n",
        "input_dim = 1\n",
        "H1 = 100\n",
        "num_classes = 1\n",
        "loss, scores = two_layers_net(x,y, input_dim, H1, num_classes, lr = 5e-3)\n"
      ],
      "metadata": {
        "id": "nuBdkqHw4KMa"
      },
      "execution_count": null,
      "outputs": []
    },
    {
      "cell_type": "code",
      "source": [
        "plt.plot(x,y, '--')\n",
        "plt.plot(x,scores, 'x')"
      ],
      "metadata": {
        "colab": {
          "base_uri": "https://localhost:8080/",
          "height": 282
        },
        "id": "RmW8xivv4Nsp",
        "outputId": "88593258-cbcd-4287-8044-9d42b1695e1f"
      },
      "execution_count": null,
      "outputs": [
        {
          "output_type": "execute_result",
          "data": {
            "text/plain": [
              "[<matplotlib.lines.Line2D at 0x7fa3c3051790>]"
            ]
          },
          "metadata": {},
          "execution_count": 34
        },
        {
          "output_type": "display_data",
          "data": {
            "image/png": "[encoded data removed]",
            "text/plain": [
              "<Figure size 432x288 with 1 Axes>"
            ]
          },
          "metadata": {
            "needs_background": "light"
          }
        }
      ]
    },
    {
      "cell_type": "code",
      "source": [
        "x2 = np.linspace(0, 1,1001)\n",
        "y2 = np.sin(x2)+x2+(x2)**3+0.05*np.random.randn(x2.shape[0])\n",
        "input_dim = 1\n",
        "H1 = 40\n",
        "num_classes = 1\n",
        "loss2, scores2 = two_layers_net(x2,y2,input_dim, H1, num_classes,lr=1e-1)"
      ],
      "metadata": {
        "id": "teK5ukgJ6F7o"
      },
      "execution_count": null,
      "outputs": []
    },
    {
      "cell_type": "code",
      "source": [
        "plt.plot(x2,y2, '--')\n",
        "plt.plot(x2,scores2, 'x')"
      ],
      "metadata": {
        "colab": {
          "base_uri": "https://localhost:8080/",
          "height": 284
        },
        "id": "GRhYBe3J6T-U",
        "outputId": "aaec0eac-964d-44c4-942e-07be4fe324bb"
      },
      "execution_count": null,
      "outputs": [
        {
          "output_type": "execute_result",
          "data": {
            "text/plain": [
              "[<matplotlib.lines.Line2D at 0x7fa3c315f090>]"
            ]
          },
          "metadata": {},
          "execution_count": 29
        },
        {
          "output_type": "display_data",
          "data": {
            "image/png": "[encoded data removed]",
            "text/plain": [
              "<Figure size 432x288 with 1 Axes>"
            ]
          },
          "metadata": {
            "needs_background": "light"
          }
        }
      ]
    },
    {
      "cell_type": "code",
      "source": [
        "x3 = np.linspace(-1,1,600)\n",
        "y3 = (x3-0.2)**2 + np.random.randn(x3.size)*0\n",
        "input_dim = 1\n",
        "H1 = 40\n",
        "num_classes = 1\n",
        "loss3, scores3 = two_layers_net(x3,y3,input_dim, H1, num_classes,lr=1e-1)\n"
      ],
      "metadata": {
        "id": "X-C8KeV16o9C"
      },
      "execution_count": null,
      "outputs": []
    },
    {
      "cell_type": "code",
      "source": [
        "plt.plot(x3,y3, '--')\n",
        "plt.plot(x3,scores3, 'x')"
      ],
      "metadata": {
        "colab": {
          "base_uri": "https://localhost:8080/",
          "height": 282
        },
        "id": "kg6wexhE6hq_",
        "outputId": "14f3a95f-21c3-43a4-a075-4343f258217f"
      },
      "execution_count": null,
      "outputs": [
        {
          "output_type": "execute_result",
          "data": {
            "text/plain": [
              "[<matplotlib.lines.Line2D at 0x7fa3c2fc1810>]"
            ]
          },
          "metadata": {},
          "execution_count": 37
        },
        {
          "output_type": "display_data",
          "data": {
            "image/png": "[encoded data removed]",
            "text/plain": [
              "<Figure size 432x288 with 1 Axes>"
            ]
          },
          "metadata": {
            "needs_background": "light"
          }
        }
      ]
    }
  ]
}